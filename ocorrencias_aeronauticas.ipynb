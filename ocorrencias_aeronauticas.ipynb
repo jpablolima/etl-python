{
 "cells": [
  {
   "cell_type": "code",
   "execution_count": 1,
   "metadata": {},
   "outputs": [],
   "source": [
    "import pandas as pd"
   ]
  },
  {
   "cell_type": "code",
   "execution_count": 11,
   "metadata": {},
   "outputs": [
    {
     "data": {
      "text/html": [
       "<div>\n",
       "<style scoped>\n",
       "    .dataframe tbody tr th:only-of-type {\n",
       "        vertical-align: middle;\n",
       "    }\n",
       "\n",
       "    .dataframe tbody tr th {\n",
       "        vertical-align: top;\n",
       "    }\n",
       "\n",
       "    .dataframe thead th {\n",
       "        text-align: right;\n",
       "    }\n",
       "</style>\n",
       "<table border=\"1\" class=\"dataframe\">\n",
       "  <thead>\n",
       "    <tr style=\"text-align: right;\">\n",
       "      <th></th>\n",
       "      <th>codigo_ocorrencia</th>\n",
       "      <th>codigo_ocorrencia2</th>\n",
       "      <th>ocorrencia_classificacao</th>\n",
       "      <th>ocorrencia_cidade</th>\n",
       "      <th>ocorrencia_uf</th>\n",
       "      <th>ocorrencia_aerodromo</th>\n",
       "      <th>ocorrencia_dia</th>\n",
       "      <th>ocorrencia_hora</th>\n",
       "      <th>total_recomendacoes</th>\n",
       "    </tr>\n",
       "  </thead>\n",
       "  <tbody>\n",
       "    <tr>\n",
       "      <th>0</th>\n",
       "      <td>40211</td>\n",
       "      <td>40211</td>\n",
       "      <td>INCIDENTE</td>\n",
       "      <td>RIO DE JANEIRO</td>\n",
       "      <td>RJ</td>\n",
       "      <td>****</td>\n",
       "      <td>2010-03-01</td>\n",
       "      <td>12:00:00</td>\n",
       "      <td>0</td>\n",
       "    </tr>\n",
       "    <tr>\n",
       "      <th>1</th>\n",
       "      <td>40349</td>\n",
       "      <td>40349</td>\n",
       "      <td>INCIDENTE</td>\n",
       "      <td>BELÉM</td>\n",
       "      <td>PA</td>\n",
       "      <td>SBBE</td>\n",
       "      <td>2010-03-01</td>\n",
       "      <td>11:05:00</td>\n",
       "      <td>0</td>\n",
       "    </tr>\n",
       "    <tr>\n",
       "      <th>2</th>\n",
       "      <td>40351</td>\n",
       "      <td>40351</td>\n",
       "      <td>INCIDENTE</td>\n",
       "      <td>RIO DE JANEIRO</td>\n",
       "      <td>RJ</td>\n",
       "      <td>SBRJ</td>\n",
       "      <td>2010-03-01</td>\n",
       "      <td>03:00:00</td>\n",
       "      <td>0</td>\n",
       "    </tr>\n",
       "    <tr>\n",
       "      <th>3</th>\n",
       "      <td>39527</td>\n",
       "      <td>39527</td>\n",
       "      <td>ACIDENTE</td>\n",
       "      <td>LUCAS DO RIO VERDE</td>\n",
       "      <td>MT</td>\n",
       "      <td>****</td>\n",
       "      <td>2010-04-01</td>\n",
       "      <td>17:30:00</td>\n",
       "      <td>0</td>\n",
       "    </tr>\n",
       "    <tr>\n",
       "      <th>4</th>\n",
       "      <td>40324</td>\n",
       "      <td>40324</td>\n",
       "      <td>INCIDENTE</td>\n",
       "      <td>PELOTAS</td>\n",
       "      <td>RS</td>\n",
       "      <td>SBPK</td>\n",
       "      <td>2010-05-01</td>\n",
       "      <td>19:25:00</td>\n",
       "      <td>0</td>\n",
       "    </tr>\n",
       "  </tbody>\n",
       "</table>\n",
       "</div>"
      ],
      "text/plain": [
       "   codigo_ocorrencia  codigo_ocorrencia2 ocorrencia_classificacao  \\\n",
       "0              40211               40211                INCIDENTE   \n",
       "1              40349               40349                INCIDENTE   \n",
       "2              40351               40351                INCIDENTE   \n",
       "3              39527               39527                 ACIDENTE   \n",
       "4              40324               40324                INCIDENTE   \n",
       "\n",
       "    ocorrencia_cidade ocorrencia_uf ocorrencia_aerodromo ocorrencia_dia  \\\n",
       "0      RIO DE JANEIRO            RJ                 ****     2010-03-01   \n",
       "1               BELÉM            PA                 SBBE     2010-03-01   \n",
       "2      RIO DE JANEIRO            RJ                 SBRJ     2010-03-01   \n",
       "3  LUCAS DO RIO VERDE            MT                 ****     2010-04-01   \n",
       "4             PELOTAS            RS                 SBPK     2010-05-01   \n",
       "\n",
       "  ocorrencia_hora  total_recomendacoes  \n",
       "0        12:00:00                    0  \n",
       "1        11:05:00                    0  \n",
       "2        03:00:00                    0  \n",
       "3        17:30:00                    0  \n",
       "4        19:25:00                    0  "
      ]
     },
     "execution_count": 11,
     "metadata": {},
     "output_type": "execute_result"
    }
   ],
   "source": [
    "df = pd.read_csv(\"ocorrencia_2010_2020.csv\", sep=\";\", parse_dates=[\"ocorrencia_dia\"])\n",
    "df.head()\n"
   ]
  },
  {
   "cell_type": "code",
   "execution_count": 12,
   "metadata": {},
   "outputs": [
    {
     "data": {
      "text/plain": [
       "codigo_ocorrencia                    int64\n",
       "codigo_ocorrencia2                   int64\n",
       "ocorrencia_classificacao            object\n",
       "ocorrencia_cidade                   object\n",
       "ocorrencia_uf                       object\n",
       "ocorrencia_aerodromo                object\n",
       "ocorrencia_dia              datetime64[ns]\n",
       "ocorrencia_hora                     object\n",
       "total_recomendacoes                  int64\n",
       "dtype: object"
      ]
     },
     "execution_count": 12,
     "metadata": {},
     "output_type": "execute_result"
    }
   ],
   "source": [
    "df.dtypes"
   ]
  },
  {
   "cell_type": "code",
   "execution_count": 13,
   "metadata": {},
   "outputs": [
    {
     "data": {
      "text/plain": [
       "0        3\n",
       "1        3\n",
       "2        3\n",
       "3        4\n",
       "4        5\n",
       "        ..\n",
       "5747    12\n",
       "5748    12\n",
       "5749    12\n",
       "5750    12\n",
       "5751    12\n",
       "Name: ocorrencia_dia, Length: 5752, dtype: int64"
      ]
     },
     "execution_count": 13,
     "metadata": {},
     "output_type": "execute_result"
    }
   ],
   "source": [
    "df.ocorrencia_dia.dt.month"
   ]
  },
  {
   "cell_type": "code",
   "execution_count": 25,
   "metadata": {},
   "outputs": [
    {
     "name": "stdout",
     "output_type": "stream",
     "text": [
      "\n"
     ]
    }
   ],
   "source": []
  },
  {
   "cell_type": "code",
   "execution_count": null,
   "metadata": {},
   "outputs": [],
   "source": []
  },
  {
   "cell_type": "code",
   "execution_count": null,
   "metadata": {},
   "outputs": [],
   "source": []
  }
 ],
 "metadata": {
  "kernelspec": {
   "display_name": "Python 3",
   "language": "python",
   "name": "python3"
  },
  "language_info": {
   "codemirror_mode": {
    "name": "ipython",
    "version": 3
   },
   "file_extension": ".py",
   "mimetype": "text/x-python",
   "name": "python",
   "nbconvert_exporter": "python",
   "pygments_lexer": "ipython3",
   "version": "3.8.5"
  }
 },
 "nbformat": 4,
 "nbformat_minor": 4
}
